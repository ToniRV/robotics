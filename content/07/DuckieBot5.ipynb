{
  "nbformat": 4,
  "nbformat_minor": 0,
  "metadata": {
    "colab": {
      "name": "07-DuckieBot5.ipynb",
      "provenance": [],
      "include_colab_link": true
    },
    "kernelspec": {
      "name": "python3",
      "display_name": "Python 3"
    }
  },
  "cells": [
    {
      "cell_type": "markdown",
      "metadata": {
        "id": "view-in-github",
        "colab_type": "text"
      },
      "source": [
        "<a href=\"https://colab.research.google.com/github/dellaert/robotics/blob/master/content/07/DuckieBot5.ipynb\" target=\"_parent\"><img src=\"https://colab.research.google.com/assets/colab-badge.svg\" alt=\"Open In Colab\"/></a>"
      ]
    },
    {
      "cell_type": "markdown",
      "metadata": {
        "id": "dhzCZ0I5GY3q",
        "colab_type": "text"
      },
      "source": [
        "# DuckieBot V\n",
        "* Robot: DuckieBot\n",
        "* Sensor: camera\n",
        "* Think: localize\n",
        "* Act: DD\n",
        "* Topics needed: Machine learning (maybe deep), CNNs\n",
        "* Factor graph concepts: \n"
      ]
    },
    {
      "cell_type": "markdown",
      "metadata": {
        "id": "4qUYcGjLGTaQ",
        "colab_type": "text"
      },
      "source": [
        "## Machine Learning"
      ]
    },
    {
      "cell_type": "markdown",
      "metadata": {
        "id": "K5BtAxD9G2Au",
        "colab_type": "text"
      },
      "source": [
        "## Deep Learning, CNN"
      ]
    },
    {
      "cell_type": "markdown",
      "metadata": {
        "id": "yY0_0M00IXYt",
        "colab_type": "text"
      },
      "source": [
        "## Objec"
      ]
    },
    {
      "cell_type": "markdown",
      "metadata": {
        "id": "5SjqkwjRIUA4",
        "colab_type": "text"
      },
      "source": [
        "## Policy Gradient"
      ]
    }
  ]
}