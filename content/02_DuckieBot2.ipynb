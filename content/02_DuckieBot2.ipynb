{
  "nbformat": 4,
  "nbformat_minor": 0,
  "metadata": {
    "colab": {
      "name": "02-DuckieBot2.ipynb",
      "provenance": [],
      "include_colab_link": true
    },
    "kernelspec": {
      "name": "python3",
      "display_name": "Python 3"
    }
  },
  "cells": [
    {
      "cell_type": "markdown",
      "metadata": {
        "id": "view-in-github",
        "colab_type": "text"
      },
      "source": [
        "<a href=\"https://colab.research.google.com/github/dellaert/robotics/blob/master/content/02_DuckieBot2.ipynb\" target=\"_parent\"><img src=\"https://colab.research.google.com/assets/colab-badge.svg\" alt=\"Open In Colab\"/></a>"
      ]
    },
    {
      "cell_type": "markdown",
      "metadata": {
        "id": "dhzCZ0I5GY3q",
        "colab_type": "text"
      },
      "source": [
        "# DuckieBot II\n",
        "* Robot: DuckieBot\n",
        "* Sensor: wheel encoder\n",
        "* Think: RL\n",
        "* Act: DD\n",
        "* Topics needed: RL graphs & KF\n",
        "* Factor graph concepts: \n"
      ]
    },
    {
      "cell_type": "markdown",
      "metadata": {
        "id": "4qUYcGjLGTaQ",
        "colab_type": "text"
      },
      "source": [
        "## MDP\n",
        "States $x$ and actions $a$..."
      ]
    },
    {
      "cell_type": "markdown",
      "metadata": {
        "id": "K5BtAxD9G2Au",
        "colab_type": "text"
      },
      "source": [
        "## Reinforcement Learning "
      ]
    },
    {
      "cell_type": "markdown",
      "metadata": {
        "id": "yY0_0M00IXYt",
        "colab_type": "text"
      },
      "source": [
        "## Neural Networks"
      ]
    },
    {
      "cell_type": "markdown",
      "metadata": {
        "id": "5SjqkwjRIUA4",
        "colab_type": "text"
      },
      "source": [
        "## Policy Gradient"
      ]
    }
  ]
}