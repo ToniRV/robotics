{
  "nbformat": 4,
  "nbformat_minor": 0,
  "metadata": {
    "colab": {
      "name": "05-SelfDrivingCar.ipynb",
      "provenance": [],
      "include_colab_link": true
    },
    "kernelspec": {
      "name": "python3",
      "display_name": "Python 3"
    }
  },
  "cells": [
    {
      "cell_type": "markdown",
      "metadata": {
        "id": "view-in-github",
        "colab_type": "text"
      },
      "source": [
        "<a href=\"https://colab.research.google.com/github/dellaert/robotics/blob/master/content/05/SelfDrivingCar.ipynb\" target=\"_parent\"><img src=\"https://colab.research.google.com/assets/colab-badge.svg\" alt=\"Open In Colab\"/></a>"
      ]
    },
    {
      "cell_type": "markdown",
      "metadata": {
        "id": "dhzCZ0I5GY3q",
        "colab_type": "text"
      },
      "source": [
        "# Self Driving Car\n",
        "* Robot: Self-driving Car\n",
        "* Sensor: LIDAR\n",
        "* Think: plan routes, mapping\n",
        "* Act: continuous, acceleration, steering wheel\n",
        "* Topics needed: car kinematics (Ackerman steering), ICP, dense mapping, A*\n",
        "* Factor graph concepts: poseSLAM\n"
      ]
    },
    {
      "cell_type": "markdown",
      "metadata": {
        "id": "4qUYcGjLGTaQ",
        "colab_type": "text"
      },
      "source": [
        "## Car Kinematics"
      ]
    },
    {
      "cell_type": "markdown",
      "metadata": {
        "id": "K5BtAxD9G2Au",
        "colab_type": "text"
      },
      "source": [
        "## Point Cloud Alignment"
      ]
    },
    {
      "cell_type": "markdown",
      "metadata": {
        "id": "yY0_0M00IXYt",
        "colab_type": "text"
      },
      "source": [
        "## Dense Mapping"
      ]
    },
    {
      "cell_type": "markdown",
      "metadata": {
        "id": "5SjqkwjRIUA4",
        "colab_type": "text"
      },
      "source": [
        "## A* Path Planning"
      ]
    },
    {
      "cell_type": "markdown",
      "metadata": {
        "id": "-t77cFaTrBcL",
        "colab_type": "text"
      },
      "source": [
        "## poseSLAM"
      ]
    }
  ]
}