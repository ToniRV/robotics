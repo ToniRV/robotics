{
  "nbformat": 4,
  "nbformat_minor": 0,
  "metadata": {
    "colab": {
      "name": "03-PlanarArm.ipynb",
      "provenance": [],
      "include_colab_link": true
    },
    "kernelspec": {
      "name": "python3",
      "display_name": "Python 3"
    }
  },
  "cells": [
    {
      "cell_type": "markdown",
      "metadata": {
        "colab_type": "text",
        "id": "dhzCZ0I5GY3q"
      },
      "source": [
        "# Planar Arm\n",
        "* Robot: Planar arm\n",
        "* Sensor: joint encoders\n",
        "* Think: motion planning\n",
        "* Act: control joint angles \n",
        "* Topics needed: manipulator kinematics, control, motion planning, optimal control and trajectory optimization, RRT\n",
        "* Factor graph concepts: smoothing w GTSAM, between factors, goal factor, obstacle factors (after RRT)\n",
        "\n"
      ]
    },
    {
      "cell_type": "markdown",
      "metadata": {
        "colab_type": "text",
        "id": "4qUYcGjLGTaQ"
      },
      "source": [
        "## Manipulator Kinematics"
      ]
    },
    {
      "cell_type": "markdown",
      "metadata": {
        "colab_type": "text",
        "id": "K5BtAxD9G2Au"
      },
      "source": [
        "## Control "
      ]
    },
    {
      "cell_type": "markdown",
      "metadata": {
        "colab_type": "text",
        "id": "yY0_0M00IXYt"
      },
      "source": [
        "## Motion Planner"
      ]
    },
    {
      "cell_type": "markdown",
      "metadata": {
        "colab_type": "text",
        "id": "5SjqkwjRIUA4"
      },
      "source": [
        "## Optimal Control"
      ]
    },
    {
      "cell_type": "markdown",
      "metadata": {
        "colab_type": "text",
        "id": "8Rto-y6hjuI2"
      },
      "source": [
        "## Trajectory Optimization"
      ]
    },
    {
      "cell_type": "markdown",
      "metadata": {
        "colab_type": "text",
        "id": "H6m1_DP9jwlP"
      },
      "source": [
        "## RRTs"
      ]
    }
  ]
}